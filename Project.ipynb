{
  "nbformat": 4,
  "nbformat_minor": 0,
  "metadata": {
    "colab": {
      "name": "Untitled3.ipynb",
      "provenance": [],
      "authorship_tag": "ABX9TyPBwgSBO1PRlWm7kib4OpCW"
    },
    "kernelspec": {
      "name": "python3",
      "display_name": "Python 3"
    },
    "language_info": {
      "name": "python"
    }
  },
  "cells": [
    {
      "cell_type": "code",
      "source": [
        "import os\n",
        "import random\n",
        "\n",
        "def load_training_data(\n",
        "    data_directory: str = \"aclImdb/train\",\n",
        "    split: float = 0.8,\n",
        "    limit: int = 0\n",
        ") -> tuple:\n",
        "    # Load from files\n",
        "    reviews = []\n",
        "    for label in [\"pos\", \"neg\"]:\n",
        "        labeled_directory = f\"{data_directory}/{label}\"\n",
        "        for review in os.listdir(labeled_directory):\n",
        "            if review.endswith(\".txt\"):\n",
        "                with open(f\"{labeled_directory}/{review}\") as f:\n",
        "                    text = f.read()\n",
        "                    text = text.replace(\"<br />\", \"\\n\\n\")\n",
        "                    if text.strip():\n",
        "                        spacy_label = {\n",
        "                            \"cats\": {\n",
        "                                \"pos\": \"pos\" == label,\n",
        "                                \"neg\": \"neg\" == label}\n",
        "                        }\n",
        "                        reviews.append((text, spacy_label))\n",
        "    random.shuffle(reviews)\n",
        "\n",
        "    if limit:\n",
        "        reviews = reviews[:limit]\n",
        "    split = int(len(reviews) * split)\n",
        "    return reviews[:split], reviews[split:]"
      ],
      "metadata": {
        "id": "VPft6zNuo-wN"
      },
      "execution_count": 2,
      "outputs": []
    },
    {
      "cell_type": "code",
      "source": [
        "import os\n",
        "import random\n",
        "import spacy\n",
        "from spacy.util import minibatch, compounding\n",
        "\n",
        "def train_model(\n",
        "    training_data: list,\n",
        "    test_data: list,\n",
        "    iterations: int = 20\n",
        ") -> None:\n",
        "    # Build pipeline\n",
        "    nlp = spacy.load(\"en_core_web_sm\")\n",
        "    if \"textcat\" not in nlp.pipe_names:\n",
        "        textcat = nlp.create_pipe(\n",
        "            \"textcat\", config={\"architecture\": \"simple_cnn\"}\n",
        "        )\n",
        "        nlp.add_pipe(textcat, last=True)\n",
        "    else:\n",
        "        textcat = nlp.get_pipe(\"textcat\")\n",
        "\n",
        "    textcat.add_label(\"pos\")\n",
        "    textcat.add_label(\"neg\")\n",
        "\n",
        "    # Train only textcat\n",
        "    training_excluded_pipes = [\n",
        "        pipe for pipe in nlp.pipe_names if pipe != \"textcat\"\n",
        "    ]\n",
        "    with nlp.disable_pipes(training_excluded_pipes):\n",
        "        optimizer = nlp.begin_training()\n",
        "        # Training loop\n",
        "        print(\"Beginning training\")\n",
        "        batch_sizes = compounding(\n",
        "            4.0, 32.0, 1.001\n",
        "        )  # A generator that yields infinite series of input numbers\n",
        "        for i in range(iterations):\n",
        "            loss = {}\n",
        "            random.shuffle(training_data)\n",
        "            batches = minibatch(training_data, size=batch_sizes)\n",
        "            for batch in batches:\n",
        "                text, labels = zip(*batch)\n",
        "                nlp.update(\n",
        "                    text,\n",
        "                    labels,\n",
        "                    drop=0.2,\n",
        "                    sgd=optimizer,\n",
        "                    losses=loss\n",
        "                )"
      ],
      "metadata": {
        "id": "j-pTckYTpuhO"
      },
      "execution_count": 3,
      "outputs": []
    },
    {
      "cell_type": "code",
      "source": [
        "def train_model(\n",
        "    training_data: list,\n",
        "    test_data: list,\n",
        "    iterations: int = 20\n",
        ") -> None:\n",
        "    # Build pipeline\n",
        "    nlp = spacy.load(\"en_core_web_sm\")\n",
        "    if \"textcat\" not in nlp.pipe_names:\n",
        "        textcat = nlp.create_pipe(\n",
        "            \"textcat\", config={\"architecture\": \"simple_cnn\"}\n",
        "        )\n",
        "        nlp.add_pipe(textcat, last=True)\n",
        "    else:\n",
        "        textcat = nlp.get_pipe(\"textcat\")\n",
        "\n",
        "    textcat.add_label(\"pos\")\n",
        "    textcat.add_label(\"neg\")\n",
        "\n",
        "    # Train only textcat\n",
        "    training_excluded_pipes = [\n",
        "        pipe for pipe in nlp.pipe_names if pipe != \"textcat\"\n",
        "    ]\n",
        "    with nlp.disable_pipes(training_excluded_pipes):\n",
        "        optimizer = nlp.begin_training()\n",
        "        # Training loop\n",
        "        print(\"Beginning training\")\n",
        "        print(\"Loss\\tPrecision\\tRecall\\tF-score\")\n",
        "        batch_sizes = compounding(\n",
        "            4.0, 32.0, 1.001\n",
        "        )  # A generator that yields infinite series of input numbers\n",
        "        for i in range(iterations):\n",
        "            print(f\"Training iteration {i}\")\n",
        "            loss = {}\n",
        "            random.shuffle(training_data)\n",
        "            batches = minibatch(training_data, size=batch_sizes)\n",
        "            for batch in batches:\n",
        "                text, labels = zip(*batch)\n",
        "                nlp.update(text, labels, drop=0.2, sgd=optimizer, losses=loss)\n",
        "            with textcat.model.use_params(optimizer.averages):\n",
        "                evaluation_results = evaluate_model(\n",
        "                    tokenizer=nlp.tokenizer,\n",
        "                    textcat=textcat,\n",
        "                    test_data=test_data\n",
        "                )\n",
        "                print(\n",
        "                    f\"{loss['textcat']}\\t{evaluation_results['precision']}\"\n",
        "                    f\"\\t{evaluation_results['recall']}\"\n",
        "                    f\"\\t{evaluation_results['f-score']}\"\n",
        "                )\n",
        "\n",
        "    # Save model\n",
        "    with nlp.use_params(optimizer.averages):\n",
        "        nlp.to_disk(\"model_artifacts\")"
      ],
      "metadata": {
        "id": "O5t6lfRFqQ-1"
      },
      "execution_count": 1,
      "outputs": []
    },
    {
      "cell_type": "code",
      "source": [
        "import os\n",
        "import random\n",
        "import spacy\n",
        "from spacy.util import minibatch, compounding\n",
        "\n",
        "TEST_REVIEW = \"\"\"\n",
        "Transcendently beautiful in moments outside the office, it seems almost\n",
        "sitcom-like in those scenes. When Toni Colette walks out and ponders\n",
        "life silently, it's gorgeous.<br /><br />The movie doesn't seem to decide\n",
        "whether it's slapstick, farce, magical realism, or drama, but the best of it\n",
        "doesn't matter. (The worst is sort of tedious - like Office Space with less humor.)\n",
        "\"\"\""
      ],
      "metadata": {
        "id": "cVGpsUgjCclR"
      },
      "execution_count": 2,
      "outputs": []
    },
    {
      "cell_type": "code",
      "source": [
        "def test_model(input_data: str = TEST_REVIEW):\n",
        "    #  Load saved trained model\n",
        "    loaded_model = spacy.load(\"model_artifacts\")\n",
        "    # Generate prediction\n",
        "    parsed_text = loaded_model(input_data)\n",
        "    # Determine prediction to return\n",
        "    if parsed_text.cats[\"pos\"] > parsed_text.cats[\"neg\"]:\n",
        "        prediction = \"Positive\"\n",
        "        score = parsed_text.cats[\"pos\"]\n",
        "    else:\n",
        "        prediction = \"Negative\"\n",
        "        score = parsed_text.cats[\"neg\"]\n",
        "    print(\n",
        "        f\"Review text: {input_data}\\nPredicted sentiment: {prediction}\"\n",
        "        f\"\\tScore: {score}\"\n",
        "    )"
      ],
      "metadata": {
        "id": "o_t1mMurCpqX"
      },
      "execution_count": 3,
      "outputs": []
    },
    {
      "cell_type": "code",
      "source": [
        "if __name__ == \"__main__\":\n",
        "    train, test = load_training_data(limit=2500)\n",
        "    train_model(train, test)\n",
        "    print(\"Testing model\")\n",
        "    test_model()"
      ],
      "metadata": {
        "colab": {
          "base_uri": "https://localhost:8080/",
          "height": 239
        },
        "id": "Xe5xALh-CxHZ",
        "outputId": "93f0fc41-d3b9-4fbb-f2cb-cab230a1b12c"
      },
      "execution_count": 4,
      "outputs": [
        {
          "output_type": "error",
          "ename": "NameError",
          "evalue": "ignored",
          "traceback": [
            "\u001b[0;31m---------------------------------------------------------------------------\u001b[0m",
            "\u001b[0;31mNameError\u001b[0m                                 Traceback (most recent call last)",
            "\u001b[0;32m<ipython-input-4-22b967ba8110>\u001b[0m in \u001b[0;36m<module>\u001b[0;34m()\u001b[0m\n\u001b[1;32m      1\u001b[0m \u001b[0;32mif\u001b[0m \u001b[0m__name__\u001b[0m \u001b[0;34m==\u001b[0m \u001b[0;34m\"__main__\"\u001b[0m\u001b[0;34m:\u001b[0m\u001b[0;34m\u001b[0m\u001b[0;34m\u001b[0m\u001b[0m\n\u001b[0;32m----> 2\u001b[0;31m     \u001b[0mtrain\u001b[0m\u001b[0;34m,\u001b[0m \u001b[0mtest\u001b[0m \u001b[0;34m=\u001b[0m \u001b[0mload_training_data\u001b[0m\u001b[0;34m(\u001b[0m\u001b[0mlimit\u001b[0m\u001b[0;34m=\u001b[0m\u001b[0;36m2500\u001b[0m\u001b[0;34m)\u001b[0m\u001b[0;34m\u001b[0m\u001b[0;34m\u001b[0m\u001b[0m\n\u001b[0m\u001b[1;32m      3\u001b[0m     \u001b[0mtrain_model\u001b[0m\u001b[0;34m(\u001b[0m\u001b[0mtrain\u001b[0m\u001b[0;34m,\u001b[0m \u001b[0mtest\u001b[0m\u001b[0;34m)\u001b[0m\u001b[0;34m\u001b[0m\u001b[0;34m\u001b[0m\u001b[0m\n\u001b[1;32m      4\u001b[0m     \u001b[0mprint\u001b[0m\u001b[0;34m(\u001b[0m\u001b[0;34m\"Testing model\"\u001b[0m\u001b[0;34m)\u001b[0m\u001b[0;34m\u001b[0m\u001b[0;34m\u001b[0m\u001b[0m\n\u001b[1;32m      5\u001b[0m     \u001b[0mtest_model\u001b[0m\u001b[0;34m(\u001b[0m\u001b[0;34m)\u001b[0m\u001b[0;34m\u001b[0m\u001b[0;34m\u001b[0m\u001b[0m\n",
            "\u001b[0;31mNameError\u001b[0m: name 'load_training_data' is not defined"
          ]
        }
      ]
    }
  ]
}